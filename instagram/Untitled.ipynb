{
 "cells": [
  {
   "cell_type": "code",
   "execution_count": null,
   "id": "0c4c86ec",
   "metadata": {},
   "outputs": [],
   "source": [
    "import socket\n",
    "import threading \n",
    "import rsa\n",
    "\n",
    "\n",
    "public_key, private_key = rsa.newkeys(1024)\n",
    "public_partner = None\n",
    "\n",
    "\n",
    "choice = input(\"Do you want to host (1) or to connect (2): \")\n",
    "\n",
    "if choice == \"1\":\n",
    "\n",
    "\tserver = socket.socket(socket.AF_INET, socket.SOCK_STREAM) \n",
    "\n",
    "\tserver.bind((\"192.168.1.3\", 9999))\n",
    "\n",
    "\tserver.listen()\n",
    "\n",
    "\tclient, _ = server.accept()\n",
    "\n",
    "\tclient.send(public_key.save_pkcs1(\"PEM\"))\n",
    "\n",
    "\tpublic_partner = rsa.PublicKey.load_pkcs1(client.recv(1024))\n",
    "\n",
    "elif choice == \"2\":\n",
    "\n",
    "\tclient = socket.socket(socket.AF_INET, socket.SOCK_STREAM)\n",
    "\n",
    "\tclient.connect((\"192.168.1.3\", 9999))\n",
    "\n",
    "\tpublic_partner = rsa.PublicKey.load_pkcs1(client.recv(1024))\n",
    "\n",
    "\tclient.send(public_key.save_pkcs1(\"PEM\"))\n",
    "\n",
    "\n",
    "else:\n",
    "\n",
    "\texit()\n",
    "\n",
    "def sending_messages(c): \n",
    "\n",
    "\twhile True:\n",
    "\n",
    "\t\tmessage = input(\"\")\n",
    "\t\tc.send(rsa.encrypt(message.encode(), public_partner) )\n",
    "\t\tprint(\"You: \" + message)\n",
    "\n",
    "def receiving_messages(c): \n",
    "\tprint(\"Partner: \" + rsa.decrypt(c.recv(1024), private_key).decode())\n",
    "\n",
    "\n",
    "threading.Thread(target=sending_messages, args=(client,)).start()\n",
    "threading.Thread(target=receiving_messages, args=(client,)).start()\n",
    "\n",
    "\n"
   ]
  },
  {
   "cell_type": "code",
   "execution_count": null,
   "id": "2920b691",
   "metadata": {},
   "outputs": [],
   "source": []
  }
 ],
 "metadata": {
  "kernelspec": {
   "display_name": "Python 3 (ipykernel)",
   "language": "python",
   "name": "python3"
  },
  "language_info": {
   "codemirror_mode": {
    "name": "ipython",
    "version": 3
   },
   "file_extension": ".py",
   "mimetype": "text/x-python",
   "name": "python",
   "nbconvert_exporter": "python",
   "pygments_lexer": "ipython3",
   "version": "3.11.3"
  }
 },
 "nbformat": 4,
 "nbformat_minor": 5
}
